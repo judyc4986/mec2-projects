{
  "nbformat": 4,
  "nbformat_minor": 0,
  "metadata": {
    "colab": {
      "provenance": [],
      "include_colab_link": true
    },
    "kernelspec": {
      "name": "python3",
      "display_name": "Python 3"
    },
    "language_info": {
      "name": "python"
    }
  },
  "cells": [
    {
      "cell_type": "markdown",
      "metadata": {
        "id": "view-in-github",
        "colab_type": "text"
      },
      "source": [
        "<a href=\"https://colab.research.google.com/github/judyc4986/mec2-projects/blob/main/Judy%20Cheng_MLE_MiniProject_Deep_Learning.ipynb\" target=\"_parent\"><img src=\"https://colab.research.google.com/assets/colab-badge.svg\" alt=\"Open In Colab\"/></a>"
      ]
    },
    {
      "cell_type": "markdown",
      "source": [
        "# Mini Project: Deep Learning with Keras\n",
        "\n",
        "In this mini-project we'll be building a deep learning classifier using Keras to predict income from the popular [Adult Income dataset](http://www.cs.toronto.edu/~delve/data/adult/adultDetail.html).\n",
        "\n",
        "Predicting income from demographic and socio-economic information is an important task with real-world applications, such as financial planning, market research, and social policy analysis. The Adult dataset, sometimes referred to as the \"Census Income\" dataset, contains a vast amount of anonymized data on individuals, including features such as age, education, marital status, occupation, and more. Our objective is to leverage this data to train a deep learning model that can effectively predict whether an individual's income exceeds $50,000 annually or not.\n",
        "\n",
        "Throughout this Colab, we will walk you through the entire process of building a deep learning classifier using Keras, a high-level neural network API that runs on top of TensorFlow. Keras is known for its user-friendly and intuitive interface, making it an excellent choice for both beginners and experienced deep learning practitioners.\n",
        "\n",
        "Here's a brief outline of what we will cover in this mini-project:\n",
        "\n",
        "1. **Data Preprocessing:** We will start by loading and exploring the Adult dataset.\n",
        "\n",
        "2. **Building the Deep Learning Model:** We will construct a neural network using Keras, where we'll dive into understanding the key components of a neural network, including layers, activation functions, and optimization algorithms.\n",
        "\n",
        "3. **Model Training:** With our model architecture in place, we will split the data into training and validation sets and train the neural network on the training data. We will monitor the training process to prevent overfitting and enhance generalization.\n",
        "\n",
        "4. **Model Evaluation:** After training, we'll assess the performance of our model on the test dataset.\n",
        "\n",
        "By the end of this tutorial, you will not only have a functional deep learning classifier for income prediction but also gain valuable insights into how to leverage the power of neural networks for solving real-world classification tasks.\n"
      ],
      "metadata": {
        "id": "fyXucUekO19i"
      }
    },
    {
      "cell_type": "code",
      "source": [
        "!pip install scikeras"
      ],
      "metadata": {
        "id": "rAGzXpBhHLPJ",
        "outputId": "cbb99931-cbd6-43d1-978b-fe8baf9b645a",
        "colab": {
          "base_uri": "https://localhost:8080/"
        }
      },
      "execution_count": 5,
      "outputs": [
        {
          "output_type": "stream",
          "name": "stdout",
          "text": [
            "Requirement already satisfied: scikeras in /usr/local/lib/python3.12/dist-packages (0.13.0)\n",
            "Requirement already satisfied: keras>=3.2.0 in /usr/local/lib/python3.12/dist-packages (from scikeras) (3.10.0)\n",
            "Requirement already satisfied: scikit-learn>=1.4.2 in /usr/local/lib/python3.12/dist-packages (from scikeras) (1.7.2)\n",
            "Requirement already satisfied: absl-py in /usr/local/lib/python3.12/dist-packages (from keras>=3.2.0->scikeras) (1.4.0)\n",
            "Requirement already satisfied: numpy in /usr/local/lib/python3.12/dist-packages (from keras>=3.2.0->scikeras) (2.0.2)\n",
            "Requirement already satisfied: rich in /usr/local/lib/python3.12/dist-packages (from keras>=3.2.0->scikeras) (13.9.4)\n",
            "Requirement already satisfied: namex in /usr/local/lib/python3.12/dist-packages (from keras>=3.2.0->scikeras) (0.1.0)\n",
            "Requirement already satisfied: h5py in /usr/local/lib/python3.12/dist-packages (from keras>=3.2.0->scikeras) (3.14.0)\n",
            "Requirement already satisfied: optree in /usr/local/lib/python3.12/dist-packages (from keras>=3.2.0->scikeras) (0.17.0)\n",
            "Requirement already satisfied: ml-dtypes in /usr/local/lib/python3.12/dist-packages (from keras>=3.2.0->scikeras) (0.5.3)\n",
            "Requirement already satisfied: packaging in /usr/local/lib/python3.12/dist-packages (from keras>=3.2.0->scikeras) (25.0)\n",
            "Requirement already satisfied: scipy>=1.8.0 in /usr/local/lib/python3.12/dist-packages (from scikit-learn>=1.4.2->scikeras) (1.16.2)\n",
            "Requirement already satisfied: joblib>=1.2.0 in /usr/local/lib/python3.12/dist-packages (from scikit-learn>=1.4.2->scikeras) (1.5.2)\n",
            "Requirement already satisfied: threadpoolctl>=3.1.0 in /usr/local/lib/python3.12/dist-packages (from scikit-learn>=1.4.2->scikeras) (3.6.0)\n",
            "Requirement already satisfied: typing-extensions>=4.6.0 in /usr/local/lib/python3.12/dist-packages (from optree->keras>=3.2.0->scikeras) (4.15.0)\n",
            "Requirement already satisfied: markdown-it-py>=2.2.0 in /usr/local/lib/python3.12/dist-packages (from rich->keras>=3.2.0->scikeras) (4.0.0)\n",
            "Requirement already satisfied: pygments<3.0.0,>=2.13.0 in /usr/local/lib/python3.12/dist-packages (from rich->keras>=3.2.0->scikeras) (2.19.2)\n",
            "Requirement already satisfied: mdurl~=0.1 in /usr/local/lib/python3.12/dist-packages (from markdown-it-py>=2.2.0->rich->keras>=3.2.0->scikeras) (0.1.2)\n"
          ]
        }
      ]
    },
    {
      "cell_type": "code",
      "execution_count": 6,
      "metadata": {
        "id": "kLWR1DfQPakn"
      },
      "outputs": [],
      "source": [
        "import pandas as pd\n",
        "import numpy as np\n",
        "from sklearn.model_selection import train_test_split\n",
        "from sklearn.preprocessing import OneHotEncoder, LabelEncoder\n",
        "from sklearn.preprocessing import MinMaxScaler\n",
        "from sklearn.compose import ColumnTransformer\n",
        "from sklearn.model_selection import train_test_split\n",
        "from sklearn.metrics import roc_auc_score\n",
        "from sklearn.metrics import RocCurveDisplay\n",
        "from keras.models import Sequential\n",
        "from keras.layers import Dense\n",
        "from scikeras.wrappers import KerasClassifier\n",
        "from sklearn.pipeline import Pipeline"
      ]
    },
    {
      "cell_type": "markdown",
      "source": [
        "You can download the Adult data from the link [here](https://archive.ics.uci.edu/ml/machine-learning-databases/adult/adult.data).\n",
        "\n",
        "Here are your tasks:\n",
        "\n",
        "  1. Load the Adult data into a Pandas Dataframe.\n",
        "  2. Ensure the dataset has properly named columns. If the columns are not read in, assign them by referencing the dataset documentation.\n",
        "  3. Display the first five rows of the dataset."
      ],
      "metadata": {
        "id": "5ymxgnyq86hE"
      }
    },
    {
      "cell_type": "code",
      "source": [
        "DATA_PATH = 'https://archive.ics.uci.edu/ml/machine-learning-databases/adult/adult.data'\n",
        "\n",
        "\n",
        "url = \"https://archive.ics.uci.edu/ml/machine-learning-databases/adult/adult.data\"\n",
        "\n",
        "columns = [\n",
        "    \"age\", \"workclass\", \"fnlwgt\", \"education\", \"education_num\",\n",
        "    \"marital_status\", \"occupation\", \"relationship\", \"race\", \"sex\",\n",
        "    \"capital_gain\", \"capital_loss\", \"hours_per_week\", \"native_country\", \"income\"\n",
        "]\n",
        "\n",
        "df = pd.read_csv(url, header=None, names=columns, na_values=\" ?\", skipinitialspace=True)# Download the dataset and load it into a pandas DataFrame"
      ],
      "metadata": {
        "id": "QmwdQy7pShig"
      },
      "execution_count": 7,
      "outputs": []
    },
    {
      "cell_type": "code",
      "source": [
        "print(df.head()) # Display the first few rows of the DataFrame"
      ],
      "metadata": {
        "id": "X1wSIzVtPrfL",
        "colab": {
          "base_uri": "https://localhost:8080/"
        },
        "outputId": "7076fa07-d70d-4f42-a42f-3106d27e3668"
      },
      "execution_count": 8,
      "outputs": [
        {
          "output_type": "stream",
          "name": "stdout",
          "text": [
            "   age         workclass  fnlwgt  education  education_num  \\\n",
            "0   39         State-gov   77516  Bachelors             13   \n",
            "1   50  Self-emp-not-inc   83311  Bachelors             13   \n",
            "2   38           Private  215646    HS-grad              9   \n",
            "3   53           Private  234721       11th              7   \n",
            "4   28           Private  338409  Bachelors             13   \n",
            "\n",
            "       marital_status         occupation   relationship   race     sex  \\\n",
            "0       Never-married       Adm-clerical  Not-in-family  White    Male   \n",
            "1  Married-civ-spouse    Exec-managerial        Husband  White    Male   \n",
            "2            Divorced  Handlers-cleaners  Not-in-family  White    Male   \n",
            "3  Married-civ-spouse  Handlers-cleaners        Husband  Black    Male   \n",
            "4  Married-civ-spouse     Prof-specialty           Wife  Black  Female   \n",
            "\n",
            "   capital_gain  capital_loss  hours_per_week native_country income  \n",
            "0          2174             0              40  United-States  <=50K  \n",
            "1             0             0              13  United-States  <=50K  \n",
            "2             0             0              40  United-States  <=50K  \n",
            "3             0             0              40  United-States  <=50K  \n",
            "4             0             0              40           Cuba  <=50K  \n"
          ]
        }
      ]
    },
    {
      "cell_type": "markdown",
      "source": [
        "If you're not already familiar with the Adult dataset, it's important to do some exploratory data analysis.\n",
        "\n",
        "Here are your tasks:\n",
        "\n",
        "  1. Do exploratory data analysis to give you some better intuition for the dataset. This is a bit open-ended. How many rows/columns are there? How are NULL values represented? What's the percentage of positive cases in the dataset?\n",
        "\n",
        "  2. Drop all rows with NULL values.\n",
        "\n",
        "  3. Use Scikit-Learn's [LabelEncoder](https://scikit-learn.org/stable/modules/generated/sklearn.preprocessing.LabelEncoder.html) to convert the `income` column with a data type string to a binary variable."
      ],
      "metadata": {
        "id": "5fHLuKZl9ivm"
      }
    },
    {
      "cell_type": "code",
      "source": [
        "\n",
        "url = \"https://archive.ics.uci.edu/ml/machine-learning-databases/adult/adult.data\"\n",
        "columns = [\n",
        "    \"age\", \"workclass\", \"fnlwgt\", \"education\", \"education_num\",\n",
        "    \"marital_status\", \"occupation\", \"relationship\", \"race\", \"sex\",\n",
        "    \"capital_gain\", \"capital_loss\", \"hours_per_week\", \"native_country\", \"income\"\n",
        "]\n",
        "df = pd.read_csv(url, header=None, names=columns, na_values=\" ?\", skipinitialspace=True)\n",
        "\n",
        "\n",
        "print(\"Shape of dataset:\", df.shape)\n",
        "\n",
        "\n",
        "print(\"\\nNull values per column:\")\n",
        "print(df.isnull().sum())\n",
        "\n",
        "\n",
        "print(\"\\nPercentage of missing values overall:\")\n",
        "print((df.isnull().sum().sum() / (df.shape[0] * df.shape[1])) * 100, \"%\")\n",
        "\n",
        "positive_cases = (df[\"income\"] == \">50K\").mean() * 100\n",
        "print(f\"\\nPercentage of positive income cases (>50K): {positive_cases:.2f}%\") # Do some exploratory analysis. How many rows/columns are there? How are NULL\n",
        "# values represented? What's the percentrage of positive cases in the dataset?"
      ],
      "metadata": {
        "id": "fc_s4kRKTloe",
        "colab": {
          "base_uri": "https://localhost:8080/"
        },
        "outputId": "00357b72-5ca5-4ff8-a342-132e2f0b4385"
      },
      "execution_count": 9,
      "outputs": [
        {
          "output_type": "stream",
          "name": "stdout",
          "text": [
            "Shape of dataset: (32561, 15)\n",
            "\n",
            "Null values per column:\n",
            "age               0\n",
            "workclass         0\n",
            "fnlwgt            0\n",
            "education         0\n",
            "education_num     0\n",
            "marital_status    0\n",
            "occupation        0\n",
            "relationship      0\n",
            "race              0\n",
            "sex               0\n",
            "capital_gain      0\n",
            "capital_loss      0\n",
            "hours_per_week    0\n",
            "native_country    0\n",
            "income            0\n",
            "dtype: int64\n",
            "\n",
            "Percentage of missing values overall:\n",
            "0.0 %\n",
            "\n",
            "Percentage of positive income cases (>50K): 24.08%\n"
          ]
        }
      ]
    },
    {
      "cell_type": "code",
      "source": [
        "df_clean = df.dropna()\n",
        "print(\"\\nShape after dropping nulls:\", df_clean.shape) # Find all NULL values and drop them"
      ],
      "metadata": {
        "id": "pZW7GRw3P0dT",
        "colab": {
          "base_uri": "https://localhost:8080/"
        },
        "outputId": "65066e69-9d63-4236-9796-ced69391fde4"
      },
      "execution_count": 10,
      "outputs": [
        {
          "output_type": "stream",
          "name": "stdout",
          "text": [
            "\n",
            "Shape after dropping nulls: (32561, 15)\n"
          ]
        }
      ]
    },
    {
      "cell_type": "code",
      "source": [
        "encoder = LabelEncoder()\n",
        "df_clean[\"income_encoded\"] = encoder.fit_transform(df_clean[\"income\"])\n",
        "\n",
        "# Verify encoding (0 = <=50K, 1 = >50K)\n",
        "print(\"\\nEncoded income values:\")\n",
        "print(df_clean[\"income_encoded\"].value_counts())\n",
        "\n",
        "print(\"\\nFinal dataset info:\")\n",
        "print(df_clean.info()) # Use Scikit-Learn's LabelEncoder to convert the income column with a data type\n",
        "# string to a binary variable."
      ],
      "metadata": {
        "id": "BZ_mJT_DLZ-L",
        "colab": {
          "base_uri": "https://localhost:8080/"
        },
        "outputId": "d9387fd7-64b9-4fff-d544-285d50c10b63"
      },
      "execution_count": 11,
      "outputs": [
        {
          "output_type": "stream",
          "name": "stdout",
          "text": [
            "\n",
            "Encoded income values:\n",
            "income_encoded\n",
            "0    24720\n",
            "1     7841\n",
            "Name: count, dtype: int64\n",
            "\n",
            "Final dataset info:\n",
            "<class 'pandas.core.frame.DataFrame'>\n",
            "RangeIndex: 32561 entries, 0 to 32560\n",
            "Data columns (total 16 columns):\n",
            " #   Column          Non-Null Count  Dtype \n",
            "---  ------          --------------  ----- \n",
            " 0   age             32561 non-null  int64 \n",
            " 1   workclass       32561 non-null  object\n",
            " 2   fnlwgt          32561 non-null  int64 \n",
            " 3   education       32561 non-null  object\n",
            " 4   education_num   32561 non-null  int64 \n",
            " 5   marital_status  32561 non-null  object\n",
            " 6   occupation      32561 non-null  object\n",
            " 7   relationship    32561 non-null  object\n",
            " 8   race            32561 non-null  object\n",
            " 9   sex             32561 non-null  object\n",
            " 10  capital_gain    32561 non-null  int64 \n",
            " 11  capital_loss    32561 non-null  int64 \n",
            " 12  hours_per_week  32561 non-null  int64 \n",
            " 13  native_country  32561 non-null  object\n",
            " 14  income          32561 non-null  object\n",
            " 15  income_encoded  32561 non-null  int64 \n",
            "dtypes: int64(7), object(9)\n",
            "memory usage: 4.0+ MB\n",
            "None\n"
          ]
        }
      ]
    },
    {
      "cell_type": "markdown",
      "source": [
        "1. Split the data into training and test sets. Remember not to include the label you're trying to predict, `income`, as a column in your training data."
      ],
      "metadata": {
        "id": "ibK0DxJsA1JH"
      }
    },
    {
      "cell_type": "code",
      "source": [
        "\n",
        "# Drop both the original income string column and the encoded one from X\n",
        "X = df_clean.drop(columns=[\"income\", \"income_encoded\"])\n",
        "y = df_clean[\"income_encoded\"]\n",
        "\n",
        "\n",
        "X_train, X_test, y_train, y_test = train_test_split(\n",
        "    X, y, test_size=0.2, random_state=42, stratify=y\n",
        ")\n",
        "\n",
        "\n",
        "print(\"Training features shape:\", X_train.shape)\n",
        "print(\"Test features shape:\", X_test.shape)\n",
        "print(\"Training labels shape:\", y_train.shape)\n",
        "print(\"Test labels shape:\", y_test.shape)\n",
        "\n",
        "\n",
        "print(\"\\n% of positive cases in training set:\", (y_train.mean() * 100).round(2))\n",
        "print(\"% of positive cases in test set:\", (y_test.mean() * 100).round(2))"
      ],
      "metadata": {
        "id": "1whzL6K7J-zq",
        "colab": {
          "base_uri": "https://localhost:8080/"
        },
        "outputId": "2fc071d6-66bb-4dba-b9c2-916428c8986d"
      },
      "execution_count": 12,
      "outputs": [
        {
          "output_type": "stream",
          "name": "stdout",
          "text": [
            "Training features shape: (26048, 14)\n",
            "Test features shape: (6513, 14)\n",
            "Training labels shape: (26048,)\n",
            "Test labels shape: (6513,)\n",
            "\n",
            "% of positive cases in training set: 24.08\n",
            "% of positive cases in test set: 24.07\n"
          ]
        }
      ]
    },
    {
      "cell_type": "markdown",
      "source": [
        "In machine learning, the Receiver Operating Characteristic (ROC) curve and the Area Under the Curve (AUC) metric are commonly used to evaluate the performance of binary classification models. These are valuable tools for understanding how well a model can distinguish between the positive and negative classes in a classification problem.\n",
        "\n",
        "Let's break down each concept:\n",
        "\n",
        "1. ROC Curve:\n",
        "The ROC curve is a graphical representation of a binary classifier's performance as the discrimination threshold is varied. It is created by plotting the True Positive Rate (TPR) against the False Positive Rate (FPR) at different threshold values. Here's how these rates are calculated:\n",
        "\n",
        "- True Positive Rate (TPR), also called Sensitivity or Recall, measures the proportion of actual positive instances that are correctly identified by the model:\n",
        "   TPR = True Positives / (True Positives + False Negatives)\n",
        "\n",
        "- False Positive Rate (FPR) measures the proportion of actual negative instances that are incorrectly classified as positive by the model:\n",
        "   FPR = False Positives / (False Positives + True Negatives)\n",
        "\n",
        "The ROC curve is useful because it shows how well a classifier can trade off between sensitivity and specificity across different threshold values. The ideal ROC curve hugs the top-left corner, indicating a high TPR and low FPR, meaning the classifier is excellent at distinguishing between the two classes.\n",
        "\n",
        "2. AUC (Area Under the Curve):\n",
        "The AUC is a scalar metric derived from the ROC curve. It represents the area under the ROC curve, hence its name. The AUC ranges from 0 to 1, where 0 indicates a very poor classifier (always predicting the opposite class) and 1 signifies a perfect classifier (making all correct predictions).\n",
        "\n",
        "The AUC metric is beneficial because it provides a single value to summarize the classifier's overall performance across all possible threshold values. It is particularly useful when dealing with imbalanced datasets, where one class significantly outnumbers the other. In such cases, accuracy alone might not be a reliable evaluation metric, and AUC can provide a more robust performance measure.\n",
        "\n",
        "A quick rule of thumb for interpreting AUC values:\n",
        "- AUC ≈ 0.5: The model performs no better than random guessing.\n",
        "- 0.5 < AUC < 0.7: The model has poor to fair performance.\n",
        "- 0.7 < AUC < 0.9: The model has good to excellent performance.\n",
        "- AUC ≈ 1: The model is close to or has a perfect performance."
      ],
      "metadata": {
        "id": "HMsXM6B_BX5k"
      }
    },
    {
      "cell_type": "markdown",
      "source": [
        "Here are your tasks:\n",
        "\n",
        "  1. Use Scikit-Learn's [roc_auc_score](https://scikit-learn.org/stable/modules/generated/sklearn.metrics.roc_auc_score.html) to calculate the AUC score for a method that always predicts the majority class.  "
      ],
      "metadata": {
        "id": "NDGgBVEKEYKi"
      }
    },
    {
      "cell_type": "code",
      "source": [
        "\n",
        "# y_test comes from your earlier data split (actual binary outcomes)\n",
        "# It contains 0 (<=50K) and 1 (>50K)\n",
        "y_true = y_test\n",
        "\n",
        "# Find which class (0 or 1) is the majority\n",
        "majority_class = y_train.value_counts().idxmax()\n",
        "\n",
        "# Create predictions: all predicted as the majority class\n",
        "y_pred_majority = np.full_like(y_true, fill_value=majority_class)\n",
        "\n",
        "# Note: For a constant prediction (e.g., all 0s), ROC AUC may be undefined.\n",
        "# roc_auc_score will return 0.5 (by definition, same as random guessing)\n",
        "auc_score = roc_auc_score(y_true, y_pred_majority)\n",
        "\n",
        "print(f\"AUC for majority class predictor: {auc_score:.2f}\")\n",
        "print(f\"Majority class was: {majority_class} ({'>' if majority_class==1 else '<='}50K)\") # Use Scikit-Learn's roc_auc_score to calculate the AUC score for a method that\n",
        "# always predicts the majority class.\n"
      ],
      "metadata": {
        "id": "s00Xs8bqUZnn",
        "colab": {
          "base_uri": "https://localhost:8080/"
        },
        "outputId": "f2f8480c-d2b0-4a0c-e642-4b83cfd9efd9"
      },
      "execution_count": 13,
      "outputs": [
        {
          "output_type": "stream",
          "name": "stdout",
          "text": [
            "AUC for majority class predictor: 0.50\n",
            "Majority class was: 0 (<=50K)\n"
          ]
        }
      ]
    },
    {
      "cell_type": "markdown",
      "source": [
        "Now, let's do a little feature engineering.\n",
        "\n",
        "1. Use Scikit-Learn's [ColumnTransformer](https://scikit-learn.org/stable/modules/generated/sklearn.compose.ColumnTransformer.html) to apply One Hot Encoding to the categorical variables in `workclass`, `education`, `marital-status`, `occupation`, `relationship`, 'race', `sex`, and `native-country`. Also, apply [MinMaxScaler](https://scikit-learn.org/stable/modules/generated/sklearn.preprocessing.MinMaxScaler.html) to the remaining continuous features. How many columns will the dataframe have after these columns transformations are applied?"
      ],
      "metadata": {
        "id": "uWSiYNarF2t_"
      }
    },
    {
      "cell_type": "code",
      "source": [
        "\n",
        "categorical_cols = [\n",
        "    \"workclass\", \"education\", \"marital_status\", \"occupation\",\n",
        "    \"relationship\", \"race\", \"sex\", \"native_country\"\n",
        "]\n",
        "numeric_cols = [\n",
        "    \"age\", \"fnlwgt\", \"education_num\",\n",
        "    \"capital_gain\", \"capital_loss\", \"hours_per_week\"\n",
        "]\n",
        "\n",
        "\n",
        "preprocessor = ColumnTransformer(\n",
        "    transformers=[\n",
        "        (\"cat\", OneHotEncoder(handle_unknown=\"ignore\"), categorical_cols),\n",
        "        (\"num\", MinMaxScaler(), numeric_cols)\n",
        "    ]\n",
        ")\n",
        "\n",
        "\n",
        "preprocessor.fit(X_train)\n",
        "\n",
        "\n",
        "ohe = preprocessor.named_transformers_[\"cat\"]\n",
        "ohe_feature_names = ohe.get_feature_names_out(categorical_cols)\n",
        "all_feature_names = list(ohe_feature_names) + numeric_cols\n",
        "\n",
        "\n",
        "X_transformed = preprocessor.transform(X_train)# Use Scikit-Learn's ColumnTransformer to apply One Hot Encoding to the\n",
        "# categorical variables in workclass, education, marital-status, occupation,\n",
        "# relationship, 'race', sex, and native-country. #Also, apply MinMaxScaler to\n",
        "# the remaining continuous features."
      ],
      "metadata": {
        "id": "4DybgGJyW-3Q"
      },
      "execution_count": 14,
      "outputs": []
    },
    {
      "cell_type": "code",
      "source": [
        "\n",
        "print(f\"\\nShape of transformed training data: {X_transformed.shape}\")\n",
        "print(f\"Number of extracted feature names: {len(all_feature_names)}\")\n",
        "\n",
        "if X_transformed.shape[1] == len(all_feature_names):\n",
        "    print(\"✅ Column count MATCHES between transformed data and feature names!\\n\")\n",
        "else:\n",
        "    print(\"⚠️ Column count MISMATCH! Check dropped/rare categories.\\n\")\n",
        "\n",
        "for i, name in enumerate(all_feature_names, start=1):\n",
        "    print(f\"{i}. {name}\") # How many columns will the dataframe have after these columns transformations are applied?"
      ],
      "metadata": {
        "id": "emfaqHwvKfLU",
        "colab": {
          "base_uri": "https://localhost:8080/"
        },
        "outputId": "b4d631b5-220a-4ba0-ed39-9b03dc855cdb"
      },
      "execution_count": 15,
      "outputs": [
        {
          "output_type": "stream",
          "name": "stdout",
          "text": [
            "\n",
            "Shape of transformed training data: (26048, 108)\n",
            "Number of extracted feature names: 108\n",
            "✅ Column count MATCHES between transformed data and feature names!\n",
            "\n",
            "1. workclass_?\n",
            "2. workclass_Federal-gov\n",
            "3. workclass_Local-gov\n",
            "4. workclass_Never-worked\n",
            "5. workclass_Private\n",
            "6. workclass_Self-emp-inc\n",
            "7. workclass_Self-emp-not-inc\n",
            "8. workclass_State-gov\n",
            "9. workclass_Without-pay\n",
            "10. education_10th\n",
            "11. education_11th\n",
            "12. education_12th\n",
            "13. education_1st-4th\n",
            "14. education_5th-6th\n",
            "15. education_7th-8th\n",
            "16. education_9th\n",
            "17. education_Assoc-acdm\n",
            "18. education_Assoc-voc\n",
            "19. education_Bachelors\n",
            "20. education_Doctorate\n",
            "21. education_HS-grad\n",
            "22. education_Masters\n",
            "23. education_Preschool\n",
            "24. education_Prof-school\n",
            "25. education_Some-college\n",
            "26. marital_status_Divorced\n",
            "27. marital_status_Married-AF-spouse\n",
            "28. marital_status_Married-civ-spouse\n",
            "29. marital_status_Married-spouse-absent\n",
            "30. marital_status_Never-married\n",
            "31. marital_status_Separated\n",
            "32. marital_status_Widowed\n",
            "33. occupation_?\n",
            "34. occupation_Adm-clerical\n",
            "35. occupation_Armed-Forces\n",
            "36. occupation_Craft-repair\n",
            "37. occupation_Exec-managerial\n",
            "38. occupation_Farming-fishing\n",
            "39. occupation_Handlers-cleaners\n",
            "40. occupation_Machine-op-inspct\n",
            "41. occupation_Other-service\n",
            "42. occupation_Priv-house-serv\n",
            "43. occupation_Prof-specialty\n",
            "44. occupation_Protective-serv\n",
            "45. occupation_Sales\n",
            "46. occupation_Tech-support\n",
            "47. occupation_Transport-moving\n",
            "48. relationship_Husband\n",
            "49. relationship_Not-in-family\n",
            "50. relationship_Other-relative\n",
            "51. relationship_Own-child\n",
            "52. relationship_Unmarried\n",
            "53. relationship_Wife\n",
            "54. race_Amer-Indian-Eskimo\n",
            "55. race_Asian-Pac-Islander\n",
            "56. race_Black\n",
            "57. race_Other\n",
            "58. race_White\n",
            "59. sex_Female\n",
            "60. sex_Male\n",
            "61. native_country_?\n",
            "62. native_country_Cambodia\n",
            "63. native_country_Canada\n",
            "64. native_country_China\n",
            "65. native_country_Columbia\n",
            "66. native_country_Cuba\n",
            "67. native_country_Dominican-Republic\n",
            "68. native_country_Ecuador\n",
            "69. native_country_El-Salvador\n",
            "70. native_country_England\n",
            "71. native_country_France\n",
            "72. native_country_Germany\n",
            "73. native_country_Greece\n",
            "74. native_country_Guatemala\n",
            "75. native_country_Haiti\n",
            "76. native_country_Holand-Netherlands\n",
            "77. native_country_Honduras\n",
            "78. native_country_Hong\n",
            "79. native_country_Hungary\n",
            "80. native_country_India\n",
            "81. native_country_Iran\n",
            "82. native_country_Ireland\n",
            "83. native_country_Italy\n",
            "84. native_country_Jamaica\n",
            "85. native_country_Japan\n",
            "86. native_country_Laos\n",
            "87. native_country_Mexico\n",
            "88. native_country_Nicaragua\n",
            "89. native_country_Outlying-US(Guam-USVI-etc)\n",
            "90. native_country_Peru\n",
            "91. native_country_Philippines\n",
            "92. native_country_Poland\n",
            "93. native_country_Portugal\n",
            "94. native_country_Puerto-Rico\n",
            "95. native_country_Scotland\n",
            "96. native_country_South\n",
            "97. native_country_Taiwan\n",
            "98. native_country_Thailand\n",
            "99. native_country_Trinadad&Tobago\n",
            "100. native_country_United-States\n",
            "101. native_country_Vietnam\n",
            "102. native_country_Yugoslavia\n",
            "103. age\n",
            "104. fnlwgt\n",
            "105. education_num\n",
            "106. capital_gain\n",
            "107. capital_loss\n",
            "108. hours_per_week\n"
          ]
        }
      ]
    },
    {
      "cell_type": "markdown",
      "source": [
        "Keras is an open-source deep learning library written in Python. It was developed to provide a user-friendly, high-level interface for building and training neural networks. The library was created by François Chollet and was first released in March 2015 as part of the Deeplearning4j project. Later, it became part of the TensorFlow ecosystem and is now the official high-level API for TensorFlow.\n",
        "\n",
        "Keras is designed to be modular, user-friendly, and easy to extend. It allows researchers and developers to quickly prototype and experiment with various deep learning models. One of the primary goals of Keras is to enable fast experimentation, making it simple to build and iterate on different architectures.\n",
        "\n",
        "Key features of Keras include:\n",
        "\n",
        "1. User-friendly API: Keras provides a simple and intuitive interface for defining and training deep learning models. Its design philosophy focuses on ease of use and clarity of code.\n",
        "\n",
        "2. Modularity: Models in Keras are built as a sequence of layers, and users can easily stack, merge, or create complex architectures using a wide range of predefined layers.\n",
        "\n",
        "3. Extensibility: Keras allows users to define custom layers, loss functions, and metrics. This flexibility enables researchers to experiment with new ideas and algorithms seamlessly.\n",
        "\n",
        "4. Backends: Initially, Keras supported multiple backends, including TensorFlow, Theano, and CNTK. However, as of TensorFlow version 2.0, TensorFlow has become the primary backend for Keras.\n",
        "\n",
        "5. Multi-GPU and distributed training: Keras supports training models on multiple GPUs and in distributed computing environments, making it suitable for large-scale experiments.\n",
        "\n",
        "6. Pre-trained models: Keras includes a collection of pre-trained models for common tasks, such as image classification (e.g., VGG, ResNet, MobileNet) and natural language processing (e.g., Word2Vec, GloVe).\n",
        "\n",
        "The integration of Keras into TensorFlow as its official high-level API has solidified its position as one of the most popular deep learning libraries in the machine learning community. Its ease of use and versatility have contributed to its widespread adoption in both academia and industry for a wide range of deep learning tasks."
      ],
      "metadata": {
        "id": "AtoqTz5rGuET"
      }
    },
    {
      "cell_type": "markdown",
      "source": [
        "Here are your tasks:\n",
        "\n",
        "1. Create your own model in Keras to predict income in the Adult training data. Remember, it's always better to start simple and add complexity to the model if necessary. What's a good loss function to use?\n",
        "\n",
        "2. Keras can be integrated with Scitkit-Learn using a wrapper. Use the [KerasClassifier wrapper](https://adriangb.com/scikeras/stable/generated/scikeras.wrappers.KerasClassifier.html) to integrate your Keras model with the ColumnTransformer from previous steps using a [Pipeline](https://scikit-learn.org/stable/modules/generated/sklearn.pipeline.Pipeline.html) object.\n",
        "\n",
        "3. Fit your model.\n",
        "\n",
        "4. Calculate the AUC score of your model on the test data. Does the model predict better than random?\n",
        "\n",
        "5. Generate an ROC curve for your model using [RocCurveDisplay](https://scikit-learn.org/stable/modules/generated/sklearn.metrics.RocCurveDisplay.html). What would the curve look like if all your predictions were randomly generated? What would the curve look like if it you had a perfect model?"
      ],
      "metadata": {
        "id": "HVUa0h83HU24"
      }
    },
    {
      "cell_type": "code",
      "source": [
        "# --- Define model creation function ---\n",
        "def create_model():\n",
        "    model = Sequential([\n",
        "        Dense(32, activation='relu', input_dim=X_train.shape[1]),\n",
        "        Dense(16, activation='relu'),\n",
        "        Dense(1, activation='sigmoid')\n",
        "    ])\n",
        "\n",
        "    # Compile the model\n",
        "    model.compile(\n",
        "        optimizer='adam',\n",
        "        loss='binary_crossentropy',    # ✅ Best for binary classification\n",
        "        metrics=['AUC']\n",
        "    )\n",
        "    return model\n",
        "\n",
        "print(\"✅ Good loss function to use: 'binary_crossentropy'\") # Define the Keras model"
      ],
      "metadata": {
        "id": "h2xIpLlXQEcx",
        "colab": {
          "base_uri": "https://localhost:8080/"
        },
        "outputId": "fc05a0de-6b51-473a-8e7e-69c0dfcba12f"
      },
      "execution_count": 16,
      "outputs": [
        {
          "output_type": "stream",
          "name": "stdout",
          "text": [
            "✅ Good loss function to use: 'binary_crossentropy'\n"
          ]
        }
      ]
    },
    {
      "cell_type": "code",
      "source": [
        "import tensorflow as tf\n",
        "from tensorflow.keras.models import Sequential\n",
        "from tensorflow.keras.layers import Dense, Input\n",
        "from scikeras.wrappers import KerasClassifier\n",
        "from sklearn.pipeline import Pipeline\n",
        "\n",
        "preprocessor.fit(X_train)\n",
        "n_features = preprocessor.transform(X_train).shape[1]\n",
        "print(f\"✅ Preprocessed feature count: {n_features}\")\n",
        "\n",
        "def create_model():\n",
        "    model = Sequential([\n",
        "        Input(shape=(n_features,)),       # 👈 dynamically sets input size\n",
        "        Dense(32, activation='relu'),\n",
        "        Dense(16, activation='relu'),\n",
        "        Dense(1, activation='sigmoid')\n",
        "    ])\n",
        "    model.compile(\n",
        "        optimizer='adam',\n",
        "        loss='binary_crossentropy',\n",
        "        metrics=['AUC']\n",
        "    )\n",
        "    return model\n",
        "\n",
        "keras_clf = KerasClassifier(model=create_model, epochs=10, batch_size=32, verbose=0)\n",
        "\n",
        " # Create a Keras classifier"
      ],
      "metadata": {
        "id": "Rz-m2LhrQGud",
        "colab": {
          "base_uri": "https://localhost:8080/"
        },
        "outputId": "68bbebde-92d7-47d7-8d2c-13dea3567ea7"
      },
      "execution_count": 17,
      "outputs": [
        {
          "output_type": "stream",
          "name": "stdout",
          "text": [
            "✅ Preprocessed feature count: 108\n"
          ]
        }
      ]
    },
    {
      "cell_type": "code",
      "source": [
        "clf = Pipeline(steps=[\n",
        "    (\"preprocessor\", preprocessor),\n",
        "    (\"classifier\", keras_clf)\n",
        "])\n",
        "\n",
        "# Create the scikit-learn pipeline"
      ],
      "metadata": {
        "id": "VKxkil7QQJ6n"
      },
      "execution_count": 18,
      "outputs": []
    },
    {
      "cell_type": "code",
      "source": [
        "clf.fit(X_train, y_train)\n",
        "print(\"✅ Model training complete.\") # Fit the pipeline on the training data"
      ],
      "metadata": {
        "id": "25O8ZLleGQnk",
        "colab": {
          "base_uri": "https://localhost:8080/"
        },
        "outputId": "5e8d2591-17e5-4fa3-ae1c-b5cc0cfd1c31"
      },
      "execution_count": 19,
      "outputs": [
        {
          "output_type": "stream",
          "name": "stdout",
          "text": [
            "✅ Model training complete.\n"
          ]
        }
      ]
    },
    {
      "cell_type": "code",
      "source": [
        "!pip install -U scikit-learn scikeras"
      ],
      "metadata": {
        "colab": {
          "base_uri": "https://localhost:8080/"
        },
        "id": "Hes6wVMvagfG",
        "outputId": "d62740ac-2684-4091-9bf0-bb5cd53d8773"
      },
      "execution_count": 20,
      "outputs": [
        {
          "output_type": "stream",
          "name": "stdout",
          "text": [
            "Requirement already satisfied: scikit-learn in /usr/local/lib/python3.12/dist-packages (1.7.2)\n",
            "Requirement already satisfied: scikeras in /usr/local/lib/python3.12/dist-packages (0.13.0)\n",
            "Requirement already satisfied: numpy>=1.22.0 in /usr/local/lib/python3.12/dist-packages (from scikit-learn) (2.0.2)\n",
            "Requirement already satisfied: scipy>=1.8.0 in /usr/local/lib/python3.12/dist-packages (from scikit-learn) (1.16.2)\n",
            "Requirement already satisfied: joblib>=1.2.0 in /usr/local/lib/python3.12/dist-packages (from scikit-learn) (1.5.2)\n",
            "Requirement already satisfied: threadpoolctl>=3.1.0 in /usr/local/lib/python3.12/dist-packages (from scikit-learn) (3.6.0)\n",
            "Requirement already satisfied: keras>=3.2.0 in /usr/local/lib/python3.12/dist-packages (from scikeras) (3.10.0)\n",
            "Requirement already satisfied: absl-py in /usr/local/lib/python3.12/dist-packages (from keras>=3.2.0->scikeras) (1.4.0)\n",
            "Requirement already satisfied: rich in /usr/local/lib/python3.12/dist-packages (from keras>=3.2.0->scikeras) (13.9.4)\n",
            "Requirement already satisfied: namex in /usr/local/lib/python3.12/dist-packages (from keras>=3.2.0->scikeras) (0.1.0)\n",
            "Requirement already satisfied: h5py in /usr/local/lib/python3.12/dist-packages (from keras>=3.2.0->scikeras) (3.14.0)\n",
            "Requirement already satisfied: optree in /usr/local/lib/python3.12/dist-packages (from keras>=3.2.0->scikeras) (0.17.0)\n",
            "Requirement already satisfied: ml-dtypes in /usr/local/lib/python3.12/dist-packages (from keras>=3.2.0->scikeras) (0.5.3)\n",
            "Requirement already satisfied: packaging in /usr/local/lib/python3.12/dist-packages (from keras>=3.2.0->scikeras) (25.0)\n",
            "Requirement already satisfied: typing-extensions>=4.6.0 in /usr/local/lib/python3.12/dist-packages (from optree->keras>=3.2.0->scikeras) (4.15.0)\n",
            "Requirement already satisfied: markdown-it-py>=2.2.0 in /usr/local/lib/python3.12/dist-packages (from rich->keras>=3.2.0->scikeras) (4.0.0)\n",
            "Requirement already satisfied: pygments<3.0.0,>=2.13.0 in /usr/local/lib/python3.12/dist-packages (from rich->keras>=3.2.0->scikeras) (2.19.2)\n",
            "Requirement already satisfied: mdurl~=0.1 in /usr/local/lib/python3.12/dist-packages (from markdown-it-py>=2.2.0->rich->keras>=3.2.0->scikeras) (0.1.2)\n"
          ]
        }
      ]
    },
    {
      "cell_type": "code",
      "source": [
        "from sklearn.metrics import roc_auc_score\n",
        "\n",
        "# Predict probability of class 1 (>50K)\n",
        "y_pred_proba = clf.predict_proba(X_test)[:, 1]\n",
        "\n",
        "# Compute AUC\n",
        "auc = roc_auc_score(y_test, y_pred_proba)\n",
        "print(f\"✅ AUC Score on Test Data: {auc:.3f}\")\n",
        "\n",
        "# Interpret\n",
        "if auc > 0.5:\n",
        "    print(\"✅ The model predicts better than random guessing.\")\n",
        "elif auc == 0.5:\n",
        "    print(\"⚠️ The model performs no better than random guessing (AUC = 0.5).\")\n",
        "else:\n",
        "    print(\"❌ The model performs worse than random guessing.\") # Calculate the AUC score of your model on the test data.\n",
        "# Does the model predict better than random?"
      ],
      "metadata": {
        "id": "SLcNQGVqNYbB",
        "colab": {
          "base_uri": "https://localhost:8080/"
        },
        "outputId": "c18469b6-7c5f-4f65-a364-d6679466fb43"
      },
      "execution_count": 21,
      "outputs": [
        {
          "output_type": "stream",
          "name": "stdout",
          "text": [
            "✅ AUC Score on Test Data: 0.910\n",
            "✅ The model predicts better than random guessing.\n"
          ]
        }
      ]
    },
    {
      "cell_type": "code",
      "source": [
        "from sklearn.metrics import RocCurveDisplay\n",
        "\n",
        "y_pred_proba = clf.predict_proba(X_test)[:, 1]\n",
        "\n",
        "RocCurveDisplay.from_predictions(y_test, y_pred_proba)\n",
        "\n",
        "print(\"\\n✅ ROC curve generated successfully.\")\n",
        "\n",
        "print(\"\"\"\n",
        "🧠 Interpretation Guide:\n",
        "\n",
        "• The ROC curve plots the True Positive Rate (TPR) versus the False Positive Rate (FPR)\n",
        "  across all possible classification thresholds.\n",
        "\n",
        "• The closer the curve hugs the top-left corner, the better the model’s ability\n",
        "  to distinguish between positive (>50K) and negative (<=50K) income classes.\n",
        "\"\"\")\n",
        "\n",
        "print(\"\"\"\n",
        "📊 If all predictions were randomly generated:\n",
        "→ The ROC curve would be a straight diagonal line from (0, 0) to (1, 1),\n",
        "  meaning the model performs no better than chance.\n",
        "  The Area Under Curve (AUC) would be ≈ 0.5.\n",
        "\"\"\")\n",
        "\n",
        "print(\"\"\"\n",
        "🏆 If you had a perfect model:\n",
        "→ The ROC curve would go straight up the left side to (0, 1)\n",
        "  and then across the top to (1, 1),\n",
        "  achieving an AUC of 1.0 (100% correct classification).\n",
        "\"\"\")\n",
        " # Generate an ROC curve for your model."
      ],
      "metadata": {
        "id": "prJG9pr7PYIc",
        "colab": {
          "base_uri": "https://localhost:8080/",
          "height": 850
        },
        "outputId": "198b4727-d082-48be-a78b-e94d0f1c7439"
      },
      "execution_count": 24,
      "outputs": [
        {
          "output_type": "stream",
          "name": "stdout",
          "text": [
            "\n",
            "✅ ROC curve generated successfully.\n",
            "\n",
            "🧠 Interpretation Guide:\n",
            "\n",
            "• The ROC curve plots the True Positive Rate (TPR) versus the False Positive Rate (FPR)\n",
            "  across all possible classification thresholds.\n",
            "\n",
            "• The closer the curve hugs the top-left corner, the better the model’s ability\n",
            "  to distinguish between positive (>50K) and negative (<=50K) income classes.\n",
            "\n",
            "\n",
            "📊 If all predictions were randomly generated:\n",
            "→ The ROC curve would be a straight diagonal line from (0, 0) to (1, 1),\n",
            "  meaning the model performs no better than chance.\n",
            "  The Area Under Curve (AUC) would be ≈ 0.5.\n",
            "\n",
            "\n",
            "🏆 If you had a perfect model:\n",
            "→ The ROC curve would go straight up the left side to (0, 1)\n",
            "  and then across the top to (1, 1),\n",
            "  achieving an AUC of 1.0 (100% correct classification).\n",
            "\n"
          ]
        },
        {
          "output_type": "display_data",
          "data": {
            "text/plain": [
              "<Figure size 640x480 with 1 Axes>"
            ],
            "image/png": "[encoded data removed]"
          },
          "metadata": {}
        }
      ]
    }
  ]
}